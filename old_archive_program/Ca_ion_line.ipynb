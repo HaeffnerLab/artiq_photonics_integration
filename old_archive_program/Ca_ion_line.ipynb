{
 "cells": [
  {
   "cell_type": "code",
   "execution_count": 6,
   "metadata": {},
   "outputs": [],
   "source": [
    "import matplotlib.pyplot as plt\n",
    "import numpy as np"
   ]
  },
  {
   "cell_type": "code",
   "execution_count": 7,
   "metadata": {},
   "outputs": [],
   "source": [
    "\n",
    "muB = 9.274009995*1e-24\n",
    "h = 6.62607015*1e-34\n",
    "hbar = h/2/np.pi\n",
    "\n",
    "g={'S12':2, 'P12':2/3, 'P32':4/3, 'D32':4/5, 'D52': 6/5}"
   ]
  },
  {
   "cell_type": "code",
   "execution_count": 3,
   "metadata": {},
   "outputs": [],
   "source": [
    "def Zeeman_Enrg(B, mS, mD, linecentre:float):\n",
    "    '''\n",
    "    linecentre: in MHz (without 2pi)\n",
    "    '''\n",
    "    \n",
    "    freq1 =B*g['S12']*mS*muB/(h*1e6)\n",
    "\n",
    "    freq2 =B*g['D52']*mD*muB/(h*1e6)\n",
    "                                \n",
    "    return linecentre+freq2-freq1"
   ]
  },
  {
   "cell_type": "code",
   "execution_count": 4,
   "metadata": {},
   "outputs": [],
   "source": [
    "def Solve_B(mS1, mD1, mS2, mD2, freq_1, freq_2):\n",
    "    '''\n",
    "    freq_1: MHz = B*g['D52']*mD1*muB/(h*10^6) -B*g['S12']*mS1*muB/(h*10^6) + linecenter\n",
    "    freq_2: MHz = B*g['D52']*mD2*muB/(h*10^6) -B*g['S12']*mS2*muB/(h*10^6) + linecenter\n",
    "    '''\n",
    "\n",
    "    B_field= (freq_1-freq_2)/(g['D52']*mD1*muB/(h*1e6) -g['S12']*mS1*muB/(h*1e6) - g['D52']*mD2*muB/(h*1e6) +g['S12']*mS2*muB/(h*1e6) )\n",
    "\n",
    "    linecenter=freq_1-B_field*(g['D52']*mD1*muB/(h*1e6) -g['S12']*mS1*muB/(h*1e6))\n",
    "\n",
    "    return B_field, linecenter\n",
    "\n"
   ]
  },
  {
   "cell_type": "code",
   "execution_count": 1,
   "metadata": {},
   "outputs": [
    {
     "data": {
      "text/plain": [
       "{'Sm12_Dm12': 233.845, 'Sm12_Dm52': 239.16, 'S12_Dm32': 0}"
      ]
     },
     "execution_count": 1,
     "metadata": {},
     "output_type": "execute_result"
    }
   ],
   "source": [
    "{\n",
    "    'Sm12_Dm12': 233.845,\n",
    "    'Sm12_Dm52': 239.215, #???\n",
    "    'S12_Dm32' : 0\n",
    "}"
   ]
  },
  {
   "cell_type": "code",
   "execution_count": 24,
   "metadata": {},
   "outputs": [
    {
     "name": "stdout",
     "output_type": "stream",
     "text": [
      "-3.2032401505407235 469.46333333333337\n"
     ]
    }
   ],
   "source": [
    "B_field, line_center=Solve_B(-0.5,-0.5,-0.5,-2.5,233.835*2,239.215*2)\n",
    "\n",
    "print(B_field*10000, line_center)"
   ]
  },
  {
   "cell_type": "code",
   "execution_count": 18,
   "metadata": {},
   "outputs": [
    {
     "data": {
      "text/plain": [
       "0.2750000000000057"
      ]
     },
     "execution_count": 18,
     "metadata": {},
     "output_type": "execute_result"
    }
   ],
   "source": [
    "233.835"
   ]
  },
  {
   "cell_type": "code",
   "execution_count": 20,
   "metadata": {},
   "outputs": [
    {
     "data": {
      "text/plain": [
       "233.845"
      ]
     },
     "execution_count": 20,
     "metadata": {},
     "output_type": "execute_result"
    }
   ],
   "source": [
    "# -1/2 -> -1/2\n",
    "Zeeman_Enrg(B_field,-1.0/2,-1.0/2,line_center)/2"
   ]
  },
  {
   "cell_type": "code",
   "execution_count": 21,
   "metadata": {},
   "outputs": [
    {
     "data": {
      "text/plain": [
       "239.215"
      ]
     },
     "execution_count": 21,
     "metadata": {},
     "output_type": "execute_result"
    }
   ],
   "source": [
    "# -1/2 -> -5/2\n",
    "Zeeman_Enrg(B_field,-1/2,-5/2,line_center)/2"
   ]
  },
  {
   "cell_type": "code",
   "execution_count": 22,
   "metadata": {},
   "outputs": [
    {
     "data": {
      "text/plain": [
       "230.26500000000001"
      ]
     },
     "execution_count": 22,
     "metadata": {},
     "output_type": "execute_result"
    }
   ],
   "source": [
    "# 1/2 -> 5/2\n",
    "Zeeman_Enrg(B_field,0.5,5.0/2,line_center)/2"
   ]
  },
  {
   "cell_type": "code",
   "execution_count": 25,
   "metadata": {},
   "outputs": [
    {
     "data": {
      "text/plain": [
       "241.00833333333335"
      ]
     },
     "execution_count": 25,
     "metadata": {},
     "output_type": "execute_result"
    }
   ],
   "source": [
    "# 1/2 -> -3/2\n",
    "Zeeman_Enrg(B_field,0.5,-1.5,line_center)/2"
   ]
  },
  {
   "cell_type": "code",
   "execution_count": null,
   "metadata": {},
   "outputs": [],
   "source": []
  }
 ],
 "metadata": {
  "kernelspec": {
   "display_name": "base",
   "language": "python",
   "name": "python3"
  },
  "language_info": {
   "codemirror_mode": {
    "name": "ipython",
    "version": 3
   },
   "file_extension": ".py",
   "mimetype": "text/x-python",
   "name": "python",
   "nbconvert_exporter": "python",
   "pygments_lexer": "ipython3",
   "version": "3.11.5"
  }
 },
 "nbformat": 4,
 "nbformat_minor": 2
}
